{
 "cells": [
  {
   "cell_type": "markdown",
   "metadata": {},
   "source": [
    "**EDA CLASS ASSIGNMENT**\n",
    "\n",
    "**GROUP 22**\n",
    "\n",
    "**TOPIC:** MCAR Test\n",
    "\n",
    "**GROUP MEMBERS:**\n",
    "\n",
    "Aniket Pandey (202411001)\n",
    "\n",
    "\n",
    "Bhavya Boda (202203067)\n",
    "\n",
    "\n",
    "Krishil Jayswal (202203040)\n"
   ]
  },
  {
   "cell_type": "markdown",
   "metadata": {},
   "source": [
    "**Step 1:**\n",
    "\n",
    "Loading the dataset, required libraries and getting the data type of the dataset."
   ]
  },
  {
   "cell_type": "code",
   "execution_count": 1,
   "metadata": {},
   "outputs": [
    {
     "name": "stdout",
     "output_type": "stream",
     "text": [
      "<class 'pandas.core.frame.DataFrame'>\n",
      "RangeIndex: 558837 entries, 0 to 558836\n",
      "Data columns (total 16 columns):\n",
      " #   Column        Non-Null Count   Dtype  \n",
      "---  ------        --------------   -----  \n",
      " 0   year          558837 non-null  int64  \n",
      " 1   make          548536 non-null  object \n",
      " 2   model         548438 non-null  object \n",
      " 3   trim          548186 non-null  object \n",
      " 4   body          545642 non-null  object \n",
      " 5   transmission  493485 non-null  object \n",
      " 6   vin           558833 non-null  object \n",
      " 7   state         558837 non-null  object \n",
      " 8   condition     547017 non-null  float64\n",
      " 9   odometer      558743 non-null  float64\n",
      " 10  color         558088 non-null  object \n",
      " 11  interior      558088 non-null  object \n",
      " 12  seller        558837 non-null  object \n",
      " 13  mmr           558799 non-null  float64\n",
      " 14  sellingprice  558825 non-null  float64\n",
      " 15  saledate      558825 non-null  object \n",
      "dtypes: float64(4), int64(1), object(11)\n",
      "memory usage: 68.2+ MB\n"
     ]
    }
   ],
   "source": [
    "import numpy as np\n",
    "import pandas as pd\n",
    "from scipy.stats import chi2\n",
    "df = pd.read_csv('https://raw.githubusercontent.com/Krishil-Jayswal/Exploratory-Data-Analysis/refs/heads/main/missingno%20Package/car_prices.csv')\n",
    "df.info()"
   ]
  },
  {
   "cell_type": "markdown",
   "metadata": {},
   "source": [
    "As we can see there are 5 features with numerical data type. So our next step will be partioning the dataset into two parts:\n",
    "\n",
    "-Numeric data type\n",
    "\n",
    "-Categorical data type"
   ]
  },
  {
   "cell_type": "markdown",
   "metadata": {},
   "source": [
    "**Step 2.**\n",
    "\n",
    "Partioning the data into numerical and catagorical data types."
   ]
  },
  {
   "cell_type": "code",
   "execution_count": 2,
   "metadata": {},
   "outputs": [],
   "source": [
    "numeric_df = df.select_dtypes(include=['float64', 'int64'])\n",
    "categorical_df = df.select_dtypes(exclude=['float64', 'int64'])"
   ]
  },
  {
   "cell_type": "markdown",
   "metadata": {},
   "source": [
    "**Step 3.**\n",
    "\n",
    "Implementing the Little MCAR test Algorithm."
   ]
  },
  {
   "cell_type": "code",
   "execution_count": 3,
   "metadata": {},
   "outputs": [],
   "source": [
    "# Algorithmn of Little MCAR test.\n",
    "def little_mcar_test(data):\n",
    "\t\"\"\"\n",
    "\tPerform Little's MCAR test on a pandas dataframe.\n",
    "\tParameters:\n",
    "\tdata (DataFrame): The dataset to test for MCAR.\n",
    "\tReturns:\n",
    "\tdict: A dictionary containing the chi-square statistic, degrees of freedom, and p-value.\n",
    "\t\"\"\"\n",
    "\t\n",
    "\tn = len(data)\n",
    "\t\n",
    "\tgroups = []\n",
    "\t\n",
    "\tfor col in data.columns:\n",
    "\t\tmask = data[col].isnull()\n",
    "\t\n",
    "\tif mask.any():\n",
    "\t\tgroups.append(mask.astype(int).values.reshape(-1, 1))\n",
    "\t\n",
    "\tif len(groups) == 0:\n",
    "\t\traise ValueError(\"No missing data found.\")\n",
    "\t\n",
    "\tr = np.concatenate(groups, axis=1)\n",
    "\t\n",
    "\tgroup_stats = r.T @ r\n",
    "\t\n",
    "\tm = len(groups)\n",
    "\t\n",
    "\tdf = (n - 1) * m\n",
    "\t\n",
    "\tchi2_stat = group_stats.trace()\n",
    "\t\n",
    "\tp_value = chi2.sf(chi2_stat, df)\n",
    "\t\n",
    "\treturn {\"chi2_stat\": chi2_stat, \"degrees_of_freedom\": df, \"p_value\": p_value}\n",
    "\n",
    "# Function for datermining whether missing values are MCAR or not based on p value.\n",
    "def is_mcar(p, alpha=0.05):\n",
    "\tif(p > alpha):\n",
    "\t\treturn 'Your missing values are of MCAR type.'\n",
    "\telse:\n",
    "\t\treturn 'Your missing values are not of MCAR type'"
   ]
  },
  {
   "cell_type": "markdown",
   "metadata": {},
   "source": [
    "**Step 4.**\n",
    "\n",
    "Performing the test on numerical type dataset partion and deriving the results."
   ]
  },
  {
   "cell_type": "code",
   "execution_count": 4,
   "metadata": {},
   "outputs": [
    {
     "name": "stdout",
     "output_type": "stream",
     "text": [
      "P value: 1.0\n",
      "Chi-square statistic: 12\n",
      "Degrees of freedom: 558836\n",
      "Your missing values are of MCAR type.\n"
     ]
    }
   ],
   "source": [
    "result = little_mcar_test(numeric_df)\n",
    "\n",
    "print('P value:', result['p_value'])\n",
    "print('Chi-square statistic:', result['chi2_stat'])\n",
    "print('Degrees of freedom:', result['degrees_of_freedom'])\n",
    "print(is_mcar(result['p_value']))"
   ]
  },
  {
   "cell_type": "markdown",
   "metadata": {},
   "source": [
    "#### Conclusions"
   ]
  },
  {
   "cell_type": "markdown",
   "metadata": {},
   "source": [
    "As we can see the p value is greater than alpha, so we fail to reject the null hypothesis. And hence we conclude that our missing values are MCAR type."
   ]
  }
 ],
 "metadata": {
  "kernelspec": {
   "display_name": "env",
   "language": "python",
   "name": "python3"
  },
  "language_info": {
   "codemirror_mode": {
    "name": "ipython",
    "version": 3
   },
   "file_extension": ".py",
   "mimetype": "text/x-python",
   "name": "python",
   "nbconvert_exporter": "python",
   "pygments_lexer": "ipython3",
   "version": "3.12.3"
  }
 },
 "nbformat": 4,
 "nbformat_minor": 2
}
